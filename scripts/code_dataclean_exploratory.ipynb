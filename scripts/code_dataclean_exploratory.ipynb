{
 "cells": [
  {
   "cell_type": "markdown",
   "metadata": {},
   "source": [
    "Chen, Joy | May 2019 | Stat 418\n",
    "\n",
    "# International Airfare Pricing and FX Arbitrage\n",
    "# Data Cleaning and Exploratory Analysis Code\n",
    "\n",
    "### Description\n",
    "An analysis of international airfare prices from the U.S. to various destinations Europe. Data is collected via webscraping using BeautifulSoup. Data and analysis will be used to construct predictive linear model that will assist with airfare purchasing decisions.\n",
    "\n",
    "### Acknowledgements\n",
    "Courtesy of Norwegian Airlines"
   ]
  },
  {
   "cell_type": "markdown",
   "metadata": {},
   "source": [
    "### Data Cleaning\n",
    "Filtering for relevant rows / columns and creating new variable fields"
   ]
  },
  {
   "cell_type": "code",
   "execution_count": 54,
   "metadata": {},
   "outputs": [],
   "source": [
    "import pandas as pd\n",
    "import numpy as np\n",
    "import matplotlib.pyplot as plt\n",
    "from matplotlib.pyplot import figure\n",
    "import seaborn as sb\n",
    "\n",
    "import time\n",
    "import datetime\n",
    "import pytz\n",
    "import re\n",
    "\n",
    "# Set pandas view options\n",
    "pd.set_option(\"display.max_columns\", 50)\n",
    "pd.set_option(\"display.max_rows\", 999)"
   ]
  },
  {
   "cell_type": "code",
   "execution_count": 20,
   "metadata": {},
   "outputs": [
    {
     "data": {
      "text/plain": [
       "(4847, 34)"
      ]
     },
     "execution_count": 20,
     "metadata": {},
     "output_type": "execute_result"
    }
   ],
   "source": [
    "# Load compiled data\n",
    "tix_data = pd.read_csv('airfare_orig.csv')\n",
    "tix_data.shape"
   ]
  },
  {
   "cell_type": "code",
   "execution_count": 21,
   "metadata": {},
   "outputs": [],
   "source": [
    "# Convert date columns recognized date variables\n",
    "tix_data['depart_date'] = pd.to_datetime(tix_data['depart_date'])\n",
    "tix_data['data_extract_time'] = pd.to_datetime(tix_data['data_extract_time'], format = '%y-%m-%d %H:%M:%S')"
   ]
  },
  {
   "cell_type": "code",
   "execution_count": 22,
   "metadata": {},
   "outputs": [],
   "source": [
    "# Sort data\n",
    "tix_data.sort_values(['orig_port_code','dest_port_code', 'depart_date'], inplace = True)"
   ]
  },
  {
   "cell_type": "code",
   "execution_count": 23,
   "metadata": {},
   "outputs": [
    {
     "data": {
      "text/plain": [
       "(4413, 15)"
      ]
     },
     "execution_count": 23,
     "metadata": {},
     "output_type": "execute_result"
    }
   ],
   "source": [
    "# Drop any sold-out flights identified by id_leg1 = NaN\n",
    "tix_data.dropna(subset=['id_leg1'], inplace = True)\n",
    "# New dataframe dimensions\n",
    "tix_data.shape\n",
    "\n",
    "# Remove all prices expect for lowfare_USD (the class of airfare we will be predicting on)\n",
    "tix_data = tix_data.iloc[:, :-19]\n",
    "\n",
    "# Drop all rows with NaN lowfare_USD\n",
    "tix_data.dropna(subset = ['prices_lowfare_USD'], inplace = True)\n",
    "\n",
    "# New dimentions\n",
    "tix_data.shape"
   ]
  },
  {
   "cell_type": "code",
   "execution_count": 24,
   "metadata": {},
   "outputs": [],
   "source": [
    "# Separate data_extract_time into year, month, day components\n",
    "tix_data.insert(5, 'depart_yr', tix_data['depart_date'].dt.year)\n",
    "tix_data.insert(6, 'depart_mo', tix_data['depart_date'].dt.month)\n",
    "tix_data.insert(7, 'depart_day', tix_data['depart_date'].dt.day)\n",
    "\n",
    "# Calculate days to flight (as numeric)\n",
    "tix_data.insert(5, 'days_to_flight', \n",
    "                (tix_data['depart_date'].dt.date-tix_data['data_extract_time'].dt.date).astype('timedelta64[D]'))\n",
    "\n",
    "# Convert categorical airport codes to numeric dummies\n",
    "tix_data.insert(5, 'orig_port_coded', list(pd.factorize(tix_data['orig_port_code'])[0]))\n",
    "tix_data.insert(6, 'dest_port_coded', list(pd.factorize(tix_data['dest_port_code'])[0]))\n",
    "\n",
    "# Convert some strange stops information, you can see how there are 2 that are unusual\n",
    "list(tix_data.stops_loc.unique())\n",
    "tix_data.stops_loc.replace(['This route has an overnight stop. Departure London 06:30', 'Stops: Oslo'], \n",
    "                           ['London', 'Oslo'], inplace = True)"
   ]
  },
  {
   "cell_type": "code",
   "execution_count": 25,
   "metadata": {},
   "outputs": [
    {
     "data": {
      "text/html": [
       "<div>\n",
       "<style scoped>\n",
       "    .dataframe tbody tr th:only-of-type {\n",
       "        vertical-align: middle;\n",
       "    }\n",
       "\n",
       "    .dataframe tbody tr th {\n",
       "        vertical-align: top;\n",
       "    }\n",
       "\n",
       "    .dataframe thead th {\n",
       "        text-align: right;\n",
       "    }\n",
       "</style>\n",
       "<table border=\"1\" class=\"dataframe\">\n",
       "  <thead>\n",
       "    <tr style=\"text-align: right;\">\n",
       "      <th></th>\n",
       "      <th>data_extract_time</th>\n",
       "      <th>id_leg1</th>\n",
       "      <th>orig_port_code</th>\n",
       "      <th>dest_port_code</th>\n",
       "      <th>depart_date</th>\n",
       "      <th>orig_port_coded</th>\n",
       "      <th>dest_port_coded</th>\n",
       "      <th>days_to_flight</th>\n",
       "      <th>depart_yr</th>\n",
       "      <th>depart_mo</th>\n",
       "      <th>depart_day</th>\n",
       "      <th>depart_time</th>\n",
       "      <th>arrive_time</th>\n",
       "      <th>duration_hrs</th>\n",
       "      <th>duration_min</th>\n",
       "      <th>duration_total_min</th>\n",
       "      <th>stops</th>\n",
       "      <th>id_leg2</th>\n",
       "      <th>stops_loc</th>\n",
       "      <th>stops_time</th>\n",
       "      <th>prices_lowfare_USD</th>\n",
       "    </tr>\n",
       "  </thead>\n",
       "  <tbody>\n",
       "    <tr>\n",
       "      <th>247</th>\n",
       "      <td>2019-06-02 12:42:05</td>\n",
       "      <td>DI7016</td>\n",
       "      <td>JFK</td>\n",
       "      <td>ARN</td>\n",
       "      <td>2019-06-03</td>\n",
       "      <td>0</td>\n",
       "      <td>0</td>\n",
       "      <td>1.0</td>\n",
       "      <td>2019</td>\n",
       "      <td>6</td>\n",
       "      <td>3</td>\n",
       "      <td>23:00</td>\n",
       "      <td>16:30 +1</td>\n",
       "      <td>11</td>\n",
       "      <td>30</td>\n",
       "      <td>690</td>\n",
       "      <td>1</td>\n",
       "      <td>D82854</td>\n",
       "      <td>London</td>\n",
       "      <td>2h 10m</td>\n",
       "      <td>1172.9</td>\n",
       "    </tr>\n",
       "    <tr>\n",
       "      <th>248</th>\n",
       "      <td>2019-06-02 12:42:05</td>\n",
       "      <td>DI7018</td>\n",
       "      <td>JFK</td>\n",
       "      <td>ARN</td>\n",
       "      <td>2019-06-03</td>\n",
       "      <td>0</td>\n",
       "      <td>0</td>\n",
       "      <td>1.0</td>\n",
       "      <td>2019</td>\n",
       "      <td>6</td>\n",
       "      <td>3</td>\n",
       "      <td>22:00</td>\n",
       "      <td>16:30 +1</td>\n",
       "      <td>12</td>\n",
       "      <td>30</td>\n",
       "      <td>750</td>\n",
       "      <td>1</td>\n",
       "      <td>D82854</td>\n",
       "      <td>London</td>\n",
       "      <td>3h 10m</td>\n",
       "      <td>772.9</td>\n",
       "    </tr>\n",
       "    <tr>\n",
       "      <th>249</th>\n",
       "      <td>2019-06-02 12:42:05</td>\n",
       "      <td>DY7704</td>\n",
       "      <td>JFK</td>\n",
       "      <td>ARN</td>\n",
       "      <td>2019-06-03</td>\n",
       "      <td>0</td>\n",
       "      <td>0</td>\n",
       "      <td>1.0</td>\n",
       "      <td>2019</td>\n",
       "      <td>6</td>\n",
       "      <td>3</td>\n",
       "      <td>23:55</td>\n",
       "      <td>18:35 +1</td>\n",
       "      <td>12</td>\n",
       "      <td>40</td>\n",
       "      <td>760</td>\n",
       "      <td>1</td>\n",
       "      <td>D86092</td>\n",
       "      <td>Madrid</td>\n",
       "      <td>1h 40m</td>\n",
       "      <td>910.9</td>\n",
       "    </tr>\n",
       "    <tr>\n",
       "      <th>250</th>\n",
       "      <td>2019-06-02 12:42:05</td>\n",
       "      <td>DI7016</td>\n",
       "      <td>JFK</td>\n",
       "      <td>ARN</td>\n",
       "      <td>2019-06-03</td>\n",
       "      <td>0</td>\n",
       "      <td>0</td>\n",
       "      <td>1.0</td>\n",
       "      <td>2019</td>\n",
       "      <td>6</td>\n",
       "      <td>3</td>\n",
       "      <td>23:00</td>\n",
       "      <td>20:20 +1</td>\n",
       "      <td>15</td>\n",
       "      <td>20</td>\n",
       "      <td>920</td>\n",
       "      <td>1</td>\n",
       "      <td>D82856</td>\n",
       "      <td>London</td>\n",
       "      <td>6h 0m</td>\n",
       "      <td>1172.9</td>\n",
       "    </tr>\n",
       "    <tr>\n",
       "      <th>251</th>\n",
       "      <td>2019-06-02 12:42:05</td>\n",
       "      <td>DI7018</td>\n",
       "      <td>JFK</td>\n",
       "      <td>ARN</td>\n",
       "      <td>2019-06-03</td>\n",
       "      <td>0</td>\n",
       "      <td>0</td>\n",
       "      <td>1.0</td>\n",
       "      <td>2019</td>\n",
       "      <td>6</td>\n",
       "      <td>3</td>\n",
       "      <td>22:00</td>\n",
       "      <td>20:20 +1</td>\n",
       "      <td>16</td>\n",
       "      <td>20</td>\n",
       "      <td>980</td>\n",
       "      <td>1</td>\n",
       "      <td>D82856</td>\n",
       "      <td>London</td>\n",
       "      <td>7h 0m</td>\n",
       "      <td>772.9</td>\n",
       "    </tr>\n",
       "  </tbody>\n",
       "</table>\n",
       "</div>"
      ],
      "text/plain": [
       "      data_extract_time id_leg1 orig_port_code dest_port_code depart_date  \\\n",
       "247 2019-06-02 12:42:05  DI7016            JFK            ARN  2019-06-03   \n",
       "248 2019-06-02 12:42:05  DI7018            JFK            ARN  2019-06-03   \n",
       "249 2019-06-02 12:42:05  DY7704            JFK            ARN  2019-06-03   \n",
       "250 2019-06-02 12:42:05  DI7016            JFK            ARN  2019-06-03   \n",
       "251 2019-06-02 12:42:05  DI7018            JFK            ARN  2019-06-03   \n",
       "\n",
       "     orig_port_coded  dest_port_coded  days_to_flight  depart_yr  depart_mo  \\\n",
       "247                0                0             1.0       2019          6   \n",
       "248                0                0             1.0       2019          6   \n",
       "249                0                0             1.0       2019          6   \n",
       "250                0                0             1.0       2019          6   \n",
       "251                0                0             1.0       2019          6   \n",
       "\n",
       "     depart_day depart_time arrive_time  duration_hrs  duration_min  \\\n",
       "247           3       23:00    16:30 +1            11            30   \n",
       "248           3       22:00    16:30 +1            12            30   \n",
       "249           3       23:55    18:35 +1            12            40   \n",
       "250           3       23:00    20:20 +1            15            20   \n",
       "251           3       22:00    20:20 +1            16            20   \n",
       "\n",
       "     duration_total_min  stops id_leg2 stops_loc stops_time  \\\n",
       "247                 690      1  D82854    London     2h 10m   \n",
       "248                 750      1  D82854    London     3h 10m   \n",
       "249                 760      1  D86092    Madrid     1h 40m   \n",
       "250                 920      1  D82856    London      6h 0m   \n",
       "251                 980      1  D82856    London      7h 0m   \n",
       "\n",
       "     prices_lowfare_USD  \n",
       "247              1172.9  \n",
       "248               772.9  \n",
       "249               910.9  \n",
       "250              1172.9  \n",
       "251               772.9  "
      ]
     },
     "execution_count": 25,
     "metadata": {},
     "output_type": "execute_result"
    }
   ],
   "source": [
    "tix_data.head(5)"
   ]
  },
  {
   "cell_type": "code",
   "execution_count": 11,
   "metadata": {},
   "outputs": [
    {
     "data": {
      "text/plain": [
       "(4413, 9)"
      ]
     },
     "execution_count": 11,
     "metadata": {},
     "output_type": "execute_result"
    }
   ],
   "source": [
    "# Filter for model variables of interest:\n",
    "tix_data_model = tix_data.drop(['data_extract_time', 'id_leg1', \n",
    "                                'orig_port_code', 'dest_port_code',\n",
    "                                'depart_date', 'depart_time', 'arrive_time', \n",
    "                                'duration_hrs', 'duration_min', \n",
    "                                'id_leg2', 'stops_loc', 'stops_time'],\n",
    "                              axis = 1)\n",
    "tix_data_model.shape"
   ]
  },
  {
   "cell_type": "code",
   "execution_count": 13,
   "metadata": {},
   "outputs": [
    {
     "data": {
      "text/html": [
       "<div>\n",
       "<style scoped>\n",
       "    .dataframe tbody tr th:only-of-type {\n",
       "        vertical-align: middle;\n",
       "    }\n",
       "\n",
       "    .dataframe tbody tr th {\n",
       "        vertical-align: top;\n",
       "    }\n",
       "\n",
       "    .dataframe thead th {\n",
       "        text-align: right;\n",
       "    }\n",
       "</style>\n",
       "<table border=\"1\" class=\"dataframe\">\n",
       "  <thead>\n",
       "    <tr style=\"text-align: right;\">\n",
       "      <th></th>\n",
       "      <th>orig_port_coded</th>\n",
       "      <th>dest_port_coded</th>\n",
       "      <th>days_to_flight</th>\n",
       "      <th>depart_yr</th>\n",
       "      <th>depart_mo</th>\n",
       "      <th>depart_day</th>\n",
       "      <th>duration_total_min</th>\n",
       "      <th>stops</th>\n",
       "      <th>prices_lowfare_USD</th>\n",
       "    </tr>\n",
       "  </thead>\n",
       "  <tbody>\n",
       "    <tr>\n",
       "      <th>247</th>\n",
       "      <td>0</td>\n",
       "      <td>0</td>\n",
       "      <td>1.0</td>\n",
       "      <td>2019</td>\n",
       "      <td>6</td>\n",
       "      <td>3</td>\n",
       "      <td>690</td>\n",
       "      <td>1</td>\n",
       "      <td>1172.9</td>\n",
       "    </tr>\n",
       "    <tr>\n",
       "      <th>248</th>\n",
       "      <td>0</td>\n",
       "      <td>0</td>\n",
       "      <td>1.0</td>\n",
       "      <td>2019</td>\n",
       "      <td>6</td>\n",
       "      <td>3</td>\n",
       "      <td>750</td>\n",
       "      <td>1</td>\n",
       "      <td>772.9</td>\n",
       "    </tr>\n",
       "    <tr>\n",
       "      <th>249</th>\n",
       "      <td>0</td>\n",
       "      <td>0</td>\n",
       "      <td>1.0</td>\n",
       "      <td>2019</td>\n",
       "      <td>6</td>\n",
       "      <td>3</td>\n",
       "      <td>760</td>\n",
       "      <td>1</td>\n",
       "      <td>910.9</td>\n",
       "    </tr>\n",
       "    <tr>\n",
       "      <th>250</th>\n",
       "      <td>0</td>\n",
       "      <td>0</td>\n",
       "      <td>1.0</td>\n",
       "      <td>2019</td>\n",
       "      <td>6</td>\n",
       "      <td>3</td>\n",
       "      <td>920</td>\n",
       "      <td>1</td>\n",
       "      <td>1172.9</td>\n",
       "    </tr>\n",
       "    <tr>\n",
       "      <th>251</th>\n",
       "      <td>0</td>\n",
       "      <td>0</td>\n",
       "      <td>1.0</td>\n",
       "      <td>2019</td>\n",
       "      <td>6</td>\n",
       "      <td>3</td>\n",
       "      <td>980</td>\n",
       "      <td>1</td>\n",
       "      <td>772.9</td>\n",
       "    </tr>\n",
       "  </tbody>\n",
       "</table>\n",
       "</div>"
      ],
      "text/plain": [
       "     orig_port_coded  dest_port_coded  days_to_flight  depart_yr  depart_mo  \\\n",
       "247                0                0             1.0       2019          6   \n",
       "248                0                0             1.0       2019          6   \n",
       "249                0                0             1.0       2019          6   \n",
       "250                0                0             1.0       2019          6   \n",
       "251                0                0             1.0       2019          6   \n",
       "\n",
       "     depart_day  duration_total_min  stops  prices_lowfare_USD  \n",
       "247           3                 690      1              1172.9  \n",
       "248           3                 750      1               772.9  \n",
       "249           3                 760      1               910.9  \n",
       "250           3                 920      1              1172.9  \n",
       "251           3                 980      1               772.9  "
      ]
     },
     "execution_count": 13,
     "metadata": {},
     "output_type": "execute_result"
    }
   ],
   "source": [
    "tix_data_model.head(5)"
   ]
  },
  {
   "cell_type": "code",
   "execution_count": 9,
   "metadata": {},
   "outputs": [],
   "source": [
    "# Export cleaned data\n",
    "tix_data_model.to_csv('airfare_model.csv', index = False)"
   ]
  },
  {
   "cell_type": "markdown",
   "metadata": {},
   "source": [
    "### Exploratory Analysis"
   ]
  },
  {
   "cell_type": "code",
   "execution_count": 14,
   "metadata": {},
   "outputs": [
    {
     "data": {
      "image/png": "[encoded data removed]",
      "text/plain": [
       "<Figure size 432x288 with 1 Axes>"
      ]
     },
     "metadata": {
      "needs_background": "light"
     },
     "output_type": "display_data"
    }
   ],
   "source": [
    "# Histogram of all prices\n",
    "tix_data_model['prices_lowfare_USD'].plot.hist(grid=True, bins=20, rwidth=0.9,color='#607c8e')\n",
    "plt.xlabel('Counts')\n",
    "plt.ylabel('Price')\n",
    "plt.grid(axis='y', alpha=0.75)"
   ]
  },
  {
   "cell_type": "code",
   "execution_count": 45,
   "metadata": {},
   "outputs": [
    {
     "name": "stdout",
     "output_type": "stream",
     "text": [
      "stops_loc\n",
      "Amsterdam      129\n",
      "Barcelona      239\n",
      "Copenhagen     361\n",
      "London        1109\n",
      "Madrid         225\n",
      "Oslo           840\n",
      "Paris          101\n",
      "Rome            64\n",
      "Stockholm      532\n",
      "Name: data_extract_time, dtype: int64\n",
      "3600\n"
     ]
    },
    {
     "data": {
      "text/plain": [
       "813"
      ]
     },
     "execution_count": 45,
     "metadata": {},
     "output_type": "execute_result"
    }
   ],
   "source": [
    "# Analyze where flights stop\n",
    "print(tix_data.groupby('stops_loc').count().iloc[:,0])\n",
    "\n",
    "# Total number of connecting flights\n",
    "print(sum(tix_data.groupby('stops_loc').count().iloc[:,0]))\n",
    "# Total direct\n",
    "tix_data.stops_loc.isna().sum()"
   ]
  },
  {
   "cell_type": "code",
   "execution_count": 77,
   "metadata": {},
   "outputs": [
    {
     "data": {
      "text/plain": [
       "Text(0,0.5,'Prices (USD) - Lowfare')"
      ]
     },
     "execution_count": 77,
     "metadata": {},
     "output_type": "execute_result"
    },
    {
     "data": {
      "image/png": "[encoded data removed]",
      "text/plain": [
       "<Figure size 432x288 with 1 Axes>"
      ]
     },
     "metadata": {
      "needs_background": "light"
     },
     "output_type": "display_data"
    }
   ],
   "source": [
    "# Plot of prices vs. date\n",
    "#tix_data[['prices_lowfare_USD','depart_date']].boxplot(by='depart_date',grid=False)\n",
    "\n",
    "boxplot = sb.boxplot(x = tix_data['depart_date'].dt.strftime('%b %y'), \n",
    "                     y = tix_data['prices_lowfare_USD'],\n",
    "                     linewidth = 1, fliersize = 2, \n",
    "                     palette = 'Blues')\n",
    "plt.xlabel('Departure Date')\n",
    "plt.ylabel('Prices (USD) - Lowfare')"
   ]
  }
 ],
 "metadata": {
  "kernelspec": {
   "display_name": "Python 3",
   "language": "python",
   "name": "python3"
  },
  "language_info": {
   "codemirror_mode": {
    "name": "ipython",
    "version": 3
   },
   "file_extension": ".py",
   "mimetype": "text/x-python",
   "name": "python",
   "nbconvert_exporter": "python",
   "pygments_lexer": "ipython3",
   "version": "3.6.7"
  }
 },
 "nbformat": 4,
 "nbformat_minor": 2
}
